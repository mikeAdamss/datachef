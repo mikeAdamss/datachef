{
 "cells": [
  {
   "cell_type": "code",
   "execution_count": null,
   "id": "a628d634",
   "metadata": {},
   "outputs": [],
   "source": []
  },
  {
   "cell_type": "code",
   "execution_count": null,
   "id": "912d6037",
   "metadata": {
    "lines_to_next_cell": 2
   },
   "outputs": [],
   "source": [
    "from pathlib import Path\n",
    "\n",
    "from datachef import acquire, down, label, left, preview, right, up\n",
    "from datachef.selection import filters\n",
    "\n",
    "# A simple preview\n",
    "table = acquire(Path(\"data/bands.csv\"))\n",
    "preview(table)"
   ]
  },
  {
   "cell_type": "code",
   "execution_count": null,
   "id": "89449caf",
   "metadata": {
    "lines_to_next_cell": 2
   },
   "outputs": [],
   "source": [
    "\n",
    "\n",
    "# Observation selection\n",
    "obs = table.excel_ref(\"C4\").expand(down).expand(right).is_not_blank()\n",
    "preview(label(obs, \"observations\"))"
   ]
  },
  {
   "cell_type": "code",
   "execution_count": null,
   "id": "8e2e71dc",
   "metadata": {
    "lines_to_next_cell": 2
   },
   "outputs": [],
   "source": [
    "\n",
    "\n",
    "member = table.filter(filters.contains_string(\"John\")).expand(down).is_not_blank()\n",
    "preview(label(obs, \"observations\"), label(member, \"Member\"))"
   ]
  },
  {
   "cell_type": "code",
   "execution_count": null,
   "id": "21c938eb",
   "metadata": {
    "lines_to_next_cell": 2
   },
   "outputs": [],
   "source": [
    "\n",
    "\n",
    "properties = table.excel_ref(\"C4:E4\").fill(up).is_not_blank()\n",
    "preview(\n",
    "    label(obs, \"observations\"), label(member, \"Member\"), label(properties, \"Properties\")\n",
    ")"
   ]
  },
  {
   "cell_type": "code",
   "execution_count": null,
   "id": "5fe281f2",
   "metadata": {
    "lines_to_next_cell": 2
   },
   "outputs": [],
   "source": [
    "\n",
    "\n",
    "band = table.excel_ref(\"A1\").expand(down).is_not_blank()\n",
    "preview(\n",
    "    label(obs, \"observations\"),\n",
    "    label(member, \"Member\"),\n",
    "    label(properties, \"Properties\"),\n",
    "    label(band, \"Band\"),\n",
    ")"
   ]
  },
  {
   "cell_type": "code",
   "execution_count": null,
   "id": "7b3cc5fd",
   "metadata": {
    "lines_to_next_cell": 2
   },
   "outputs": [],
   "source": [
    "\n",
    "\n",
    "# Shift every selection up 1\n",
    "band = table.excel_ref(\"A1\").expand(down).is_not_blank()\n",
    "preview(\n",
    "    label(obs.shift(up), \"observations\"),\n",
    "    label(member.shift(up), \"Member\"),\n",
    "    label(properties.shift(up), \"Properties\"),\n",
    "    label(band.shift(up), \"Band\"),\n",
    ")"
   ]
  },
  {
   "cell_type": "code",
   "execution_count": null,
   "id": "b93eb476",
   "metadata": {
    "lines_to_next_cell": 2
   },
   "outputs": [],
   "source": [
    "\n",
    "\n",
    "# Shift the band selections right 3\n",
    "band = table.excel_ref(\"A1\").expand(down).is_not_blank()\n",
    "preview(\n",
    "    label(obs, \"observations\"),\n",
    "    label(member, \"Member\"),\n",
    "    label(properties, \"Properties\"),\n",
    "    label(band.shift(right(3)), \"Band\"),\n",
    ")"
   ]
  },
  {
   "cell_type": "code",
   "execution_count": null,
   "id": "b4284210",
   "metadata": {
    "lines_to_next_cell": 2
   },
   "outputs": [],
   "source": [
    "\n",
    "\n",
    "# Shift the band selections down\n",
    "band = table.excel_ref(\"A1\").expand(down).is_not_blank()\n",
    "preview(\n",
    "    label(obs, \"observations\"),\n",
    "    label(member, \"Member\"),\n",
    "    label(properties, \"Properties\"),\n",
    "    label(band.spread(down), \"Band\"),\n",
    ")"
   ]
  },
  {
   "cell_type": "code",
   "execution_count": null,
   "id": "371a938c",
   "metadata": {},
   "outputs": [],
   "source": [
    "\n",
    "\n",
    "# Subtracting spreaded selection\n",
    "band_spread_all = table.excel_ref(\"A1\").expand(down).is_not_blank().spread(down)\n",
    "band_spread_not_beatles = band_spread_all - band_spread_all.filter(\n",
    "    filters.contains_string(\"Beatles\")\n",
    ")\n",
    "preview(label(band_spread_not_beatles, \"Bands spread down without beatles selected\"))"
   ]
  }
 ],
 "metadata": {
  "jupytext": {
   "cell_metadata_filter": "-all",
   "encoding": "# coding: utf-8",
   "executable": "/usr/bin/env python",
   "main_language": "python",
   "notebook_metadata_filter": "-all"
  }
 },
 "nbformat": 4,
 "nbformat_minor": 5
}
