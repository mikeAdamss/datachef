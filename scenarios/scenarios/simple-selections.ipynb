{
 "cells": [
  {
   "cell_type": "code",
   "execution_count": null,
   "id": "550d11d9",
   "metadata": {},
   "outputs": [],
   "source": []
  },
  {
   "cell_type": "code",
   "execution_count": null,
   "id": "07326efa",
   "metadata": {
    "lines_to_next_cell": 2
   },
   "outputs": [],
   "source": [
    "from pathlib import Path\n",
    "\n",
    "from datachef import acquire, down, label, left, preview, right, up\n",
    "from datachef.selection import filters\n",
    "\n",
    "# A simple preview\n",
    "table = acquire(Path(\"data/bands.csv\"))\n",
    "preview(table)"
   ]
  },
  {
   "cell_type": "code",
   "execution_count": null,
   "id": "8cf0b809",
   "metadata": {
    "lines_to_next_cell": 2
   },
   "outputs": [],
   "source": [
    "\n",
    "\n",
    "# Observation selection\n",
    "obs = table.excel_ref(\"C4\").expand(down).expand(right).is_not_blank()\n",
    "preview(label(obs, \"observations\"))"
   ]
  },
  {
   "cell_type": "code",
   "execution_count": null,
   "id": "0660cc4e",
   "metadata": {
    "lines_to_next_cell": 2
   },
   "outputs": [],
   "source": [
    "\n",
    "\n",
    "member = table.filter(filters.contains_string(\"John\")).expand(down).is_not_blank()\n",
    "preview(label(obs, \"observations\"), label(member, \"Member\"))"
   ]
  },
  {
   "cell_type": "code",
   "execution_count": null,
   "id": "97960119",
   "metadata": {
    "lines_to_next_cell": 2
   },
   "outputs": [],
   "source": [
    "\n",
    "\n",
    "properties = table.excel_ref(\"C4:E4\").fill(up).is_not_blank()\n",
    "preview(\n",
    "    label(obs, \"observations\"), label(member, \"Member\"), label(properties, \"Properties\")\n",
    ")"
   ]
  },
  {
   "cell_type": "code",
   "execution_count": null,
   "id": "88640876",
   "metadata": {
    "lines_to_next_cell": 2
   },
   "outputs": [],
   "source": [
    "\n",
    "\n",
    "band = table.excel_ref(\"A1\").expand(down).is_not_blank()\n",
    "preview(\n",
    "    label(obs, \"observations\"),\n",
    "    label(member, \"Member\"),\n",
    "    label(properties, \"Properties\"),\n",
    "    label(band, \"Band\"),\n",
    ")"
   ]
  },
  {
   "cell_type": "code",
   "execution_count": null,
   "id": "a41e3437",
   "metadata": {
    "lines_to_next_cell": 2
   },
   "outputs": [],
   "source": [
    "\n",
    "\n",
    "# Shift every selection up 1\n",
    "band = table.excel_ref(\"A1\").expand(down).is_not_blank()\n",
    "preview(\n",
    "    label(obs.shift(up), \"observations\"),\n",
    "    label(member.shift(up), \"Member\"),\n",
    "    label(properties.shift(up), \"Properties\"),\n",
    "    label(band.shift(up), \"Band\"),\n",
    ")"
   ]
  },
  {
   "cell_type": "code",
   "execution_count": null,
   "id": "adbc6e4b",
   "metadata": {
    "lines_to_next_cell": 2
   },
   "outputs": [],
   "source": [
    "\n",
    "\n",
    "# Shift the band selections right 3\n",
    "band = table.excel_ref(\"A1\").expand(down).is_not_blank()\n",
    "preview(\n",
    "    label(obs, \"observations\"),\n",
    "    label(member, \"Member\"),\n",
    "    label(properties, \"Properties\"),\n",
    "    label(band.shift(right(3)), \"Band\"),\n",
    ")"
   ]
  },
  {
   "cell_type": "code",
   "execution_count": null,
   "id": "61716bfb",
   "metadata": {
    "lines_to_next_cell": 2
   },
   "outputs": [],
   "source": [
    "\n",
    "\n",
    "# Shift the band selections down\n",
    "band = table.excel_ref(\"A1\").expand(down).is_not_blank()\n",
    "preview(\n",
    "    label(obs, \"observations\"),\n",
    "    label(member, \"Member\"),\n",
    "    label(properties, \"Properties\"),\n",
    "    label(band.spread(down), \"Band\"),\n",
    ")"
   ]
  },
  {
   "cell_type": "code",
   "execution_count": null,
   "id": "f7a2a0b0",
   "metadata": {},
   "outputs": [],
   "source": [
    "\n",
    "\n",
    "# Subtracting spreaded selection\n",
    "band_spread_all = table.excel_ref(\"A1\").expand(down).is_not_blank().spread(down)\n",
    "band_spread_not_beatles = band_spread_all - band_spread_all.filter(\n",
    "    filters.contains_string(\"Beatles\")\n",
    ")\n",
    "preview(label(band_spread_not_beatles, \"Bands spread down without beatles selected\"))"
   ]
  }
 ],
 "metadata": {
  "jupytext": {
   "cell_metadata_filter": "-all",
   "encoding": "# coding: utf-8",
   "executable": "/usr/bin/env python",
   "main_language": "python",
   "notebook_metadata_filter": "-all"
  }
 },
 "nbformat": 4,
 "nbformat_minor": 5
}
